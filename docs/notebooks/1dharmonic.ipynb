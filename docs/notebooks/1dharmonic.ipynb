{
  "cells": [
    {
      "cell_type": "markdown",
      "source": [
        "# Solve the GPE in a 1D parabolic trap\n### Ashton Bradley\n\n# Introduction\nIn this simple example we start by finding the ground state of the Gross-Pitaevskii equation\nin a harmonic trap.\n\nThe mean field order parameter of a Bose-Einstein condensate far below the critical temperatrure for condensation evolves according to the GP-equation\n$$\ni\\hbar\\frac{\\partial \\psi(x,t)}{\\partial t}=\\left(-\\frac{\\hbar^2\\partial_x^2}{2m}+V(x,t)+g|\\psi(x,t)|^2\\right)\\psi(x,t)\n$$\nwith potential $V(x,t)=m\\omega_x^2 x^2/2$, and positive interaction strength $g$.\n\nWe work in harmonic oscillator units, taking length in units of $a_x=\\sqrt{\\hbar/m\\omega_x}$ and time in\nunits of $1/\\omega_x$.\n\nThe equation of motion that we solve numerically is\n$$\ni\\frac{\\partial \\psi(x,t)}{\\partial t}=\\left(-\\frac{\\partial_x^2}{2}+\\frac{x^2}{2}+g|\\psi(x,t)|^2\\right)\\psi(x,t)\n$$\nwhere all quantities are now dimensionless.\n\n# Loading the package\nFirst, we load some useful packages, and set up defaults for `Plots`."
      ],
      "metadata": {}
    },
    {
      "outputs": [],
      "cell_type": "code",
      "source": [
        "using Plots, LaTeXStrings\ngr(fmt=\"png\",legend=false,titlefontsize=12,size=(500,200),grid=false,transpose=true,colorbar=false);"
      ],
      "metadata": {},
      "execution_count": null
    },
    {
      "cell_type": "markdown",
      "source": [
        "Now load `FourierGPE`"
      ],
      "metadata": {}
    },
    {
      "outputs": [],
      "cell_type": "code",
      "source": [
        "using FourierGPE"
      ],
      "metadata": {},
      "execution_count": null
    },
    {
      "cell_type": "markdown",
      "source": [
        "Let's define a convenient plot function"
      ],
      "metadata": {}
    },
    {
      "outputs": [],
      "cell_type": "code",
      "source": [
        "function showpsi(x,ψ)\n    p1 = plot(x,abs2.(ψ))\n    xlabel!(L\"x/a_x\");ylabel!(L\"|\\psi|^2\")\n    p2 = plot(x,angle.(ψ))\n    xlabel!(L\"x/a_x\");ylabel!(L\"\\textrm{phase}(\\psi)\")\n    p = plot(p1,p2,layout=(2,1),size=(600,400))\n    return p\nend"
      ],
      "metadata": {},
      "execution_count": null
    },
    {
      "cell_type": "markdown",
      "source": [
        "Let's set the system size, and number of spatial points and initialize default simulation"
      ],
      "metadata": {}
    },
    {
      "outputs": [],
      "cell_type": "code",
      "source": [
        "L = (40.0,)\nN = (512,)\nsim = Sim(L,N)\n@unpack_Sim sim;\nμ = 25.0"
      ],
      "metadata": {},
      "execution_count": null
    },
    {
      "cell_type": "markdown",
      "source": [
        "Here we keep most of the default parameters but increase the chemical potential.\n\n## Declaring the potential\nLet's define the trapping potential."
      ],
      "metadata": {}
    },
    {
      "outputs": [],
      "cell_type": "code",
      "source": [
        "import FourierGPE.V\nV(x,t) = 0.5*x^2"
      ],
      "metadata": {},
      "execution_count": null
    },
    {
      "cell_type": "markdown",
      "source": [
        "We only require the definition as a scalar function\nbecause it will be evaluated on the grid using a broadcasted dot-call.\n\n# Initial condition\nLet's define a useful Thomas-Fermi wavefunction"
      ],
      "metadata": {}
    },
    {
      "outputs": [],
      "cell_type": "code",
      "source": [
        "ψ0(x,μ,g) = sqrt(μ/g)*sqrt(max(1.0-V(x,0.0)/μ,0.0)+im*0.0)\nx = X[1];"
      ],
      "metadata": {},
      "execution_count": null
    },
    {
      "cell_type": "markdown",
      "source": [
        "The initial state is now created on the grid and all modified variables are scooped up into `sim`:"
      ],
      "metadata": {}
    },
    {
      "outputs": [],
      "cell_type": "code",
      "source": [
        "ψi = ψ0.(x,μ,g)\nϕi = kspace(ψi,sim) #sim uses Fourier transforms that are norm-preserving\n@pack_Sim! sim;\nsim"
      ],
      "metadata": {},
      "execution_count": null
    },
    {
      "cell_type": "markdown",
      "source": [
        "The important points to note here are that we have modified $\\mu$ and the initial condition $\\phi_i$, and we have left the default damping parameter\n$\\gamma=0.5$ which means we are going to find a ground state of the GPE.\n\n## Default simulation parameters\nThe source code defining the simulation type `Sim` sets the default values and\nalso has some further explanation of each variable:"
      ],
      "metadata": {}
    },
    {
      "outputs": [],
      "cell_type": "code",
      "source": [
        "@with_kw mutable struct Sim{D} <: Simulation{D} @deftype Float64\n    # Add more parameters as necessary, or add to params (see examples)\n    L::NTuple{D,Float64} # box length scales\n    N::NTuple{D,Int64}  # grid points in each dimensions\n    μ = 15.0    # chemical potential\n    g = 0.1     # interaction parameter\n    γ = 0.5; @assert γ >= 0.0 # damping parameter\n    ti = 0.0    # initial time\n    tf = 2/γ    # final time\n    Nt::Int64 = 200     # number of saves over (ti,tf)\n    params::UserParams = Params() # optional user parameters\n    V0::Array{Float64,D} = zeros(N)\n    t::LinRange{Float64} = LinRange(ti,tf,Nt) # time of saves\n    ϕi::Array{Complex{Float64},D} = zeros(N) |> complex # initial condition\n    alg::OrdinaryDiffEq.OrdinaryDiffEqAdaptiveAlgorithm = Tsit5() # default solver\n    reltol::Float64 = 1e-6 # default tolerance; may need to use 1e-7 for corner cases\n    flags::UInt32 = FFTW.MEASURE # choose a plan. PATIENT, NO_TIMELIMIT, EXHAUSTIVE\n    # === saving\n    nfiles::Bool = false\n    path::String = nfiles ? joinpath(@__DIR__,\"data\") : @__DIR__\n    filename::String = \"save\"\n    # === arrays, transforms, spectral operators\n    X::NTuple{D,Array{Float64,1}} = xvecs(L,N)\n    K::NTuple{D,Array{Float64,1}} = kvecs(L,N)\n    espec::Array{Complex{Float64},D} = 0.5*k2(K)\n    T::TransformLibrary = makeT(X,K,flags=flags)\nend"
      ],
      "metadata": {},
      "execution_count": null
    },
    {
      "cell_type": "markdown",
      "source": [
        "# Evolution in k-space\nThe `FFTW` library is used to evolve the Gross-Pitaevskii equation in k-space"
      ],
      "metadata": {}
    },
    {
      "outputs": [],
      "cell_type": "code",
      "source": [
        "sol = runsim(sim);"
      ],
      "metadata": {},
      "execution_count": null
    },
    {
      "cell_type": "markdown",
      "source": [
        "By default the solver returns all time slices specified by the `t` vector (`t=LinRange(ti,tf,Nt)`) and solution information in a single variable `sol`.\n\nLet's have a look at the final state and verify we have a ground state with the correct chemical potential:"
      ],
      "metadata": {}
    },
    {
      "outputs": [],
      "cell_type": "code",
      "source": [
        "ϕg = sol[end]\nψg = xspace(ϕg,sim)\np=plot(x,g*abs2.(ψg),fill=(0,0.2),size=(500,200),label=L\"gn(x)\")\nplot!(x,one.(x)*μ,label=L\"\\mu\")\nplot!(x,V.(x,0.0),label=L\"V(x)\",legend=:topright)\nxlims!(-10,10); ylims!(0,1.3*μ)\ntitle!(L\"\\textrm{local}\\; \\mu(x)\")\nxlabel!(L\"x/a_x\"); ylabel!(L\"\\mu(x)/\\hbar\\omega_x\")\nplot(p)"
      ],
      "metadata": {},
      "execution_count": null
    },
    {
      "cell_type": "markdown",
      "source": [
        "The initial Thomas-Fermi state has been evolved for a default time $t=2/\\gamma$ which is\na characteristic damping time for the dissipative system with dimensionless damping\n$\\gamma$. The solution will approch the ground state satisfying $L\\psi_0=\\mu\\psi_0$ on a timescale of order\n$1/\\gamma$.\n\n# Dark soliton in harmonically trapped system\nWe found a ground state by imaginary time propagation.\nNow we can impose a phase and density imprint consistent with a dark soliton.\nWe will use the solution for the homogeneous system, which will be a reasonable\napproximation if we impose it on a state that varies slowly over the scale of the soliton (the healing length $\\xi$).\n\n## Imprinting a dark soliton"
      ],
      "metadata": {}
    },
    {
      "outputs": [],
      "cell_type": "code",
      "source": [
        "ψf = xspace(sol[end],sim)\nc = sqrt(μ)\nξ = 1/c\nv = 0.5*c\nxs = 0.\nf = sqrt(1-(v/c)^2)"
      ],
      "metadata": {},
      "execution_count": null
    },
    {
      "cell_type": "markdown",
      "source": [
        "Soliton speed is determined by depth and local healing length, and is intialized at `xs=0.0`."
      ],
      "metadata": {}
    },
    {
      "outputs": [],
      "cell_type": "code",
      "source": [
        "ψs = @. ψf*(f*tanh(f*(x-xs)/ξ)+im*v/c)\nshowpsi(x,ψs)\nxlims!(-10,10)"
      ],
      "metadata": {},
      "execution_count": null
    },
    {
      "cell_type": "markdown",
      "source": [
        "## Initilize Simulation\nWe can use the previous parameters in `sim` to define a new simulation, while modifying parameters as required (in this case the damping and simulation timescale):"
      ],
      "metadata": {}
    },
    {
      "outputs": [],
      "cell_type": "code",
      "source": [
        "γ = 0.0\ntf = 8*pi/sqrt(2); t = LinRange(ti,tf,Nt)\ndt = 0.01π/μ\nϕi = kspace(ψs,sim)\nsimSoliton = Sim(sim;γ=γ,tf=tf,t=t,ϕi=ϕi) #define a new simulation, using keywords\n# @pack_Sim! simSoliton; #we could instead pack everything into simSoliton, since we have made all changes"
      ],
      "metadata": {},
      "execution_count": null
    },
    {
      "cell_type": "markdown",
      "source": [
        "## Solve equation of motion\nAs before, we specify the initial condition in momentum space, and evolve"
      ],
      "metadata": {}
    },
    {
      "outputs": [],
      "cell_type": "code",
      "source": [
        "@time sols = runsim(simSoliton);"
      ],
      "metadata": {},
      "execution_count": null
    },
    {
      "cell_type": "markdown",
      "source": [
        "## View the solution using Plots\nPlots allows easy creation of an animated gif, as in the runnable example code below."
      ],
      "metadata": {}
    },
    {
      "outputs": [],
      "cell_type": "code",
      "source": [
        "ϕf = sols[end-4]\nψf = xspace(ϕf,simSoliton)\nshowpsi(x,ψf)\n\nanim = @animate for i in 1:length(t)-4 #make it periodic by ending early\n    ψ = xspace(sols[i],simSoliton)\n    y = g*abs2.(ψ)\n    p = plot(x,y,fill=(0,0.2),size=(500,200))\n    xlims!(-10,10); ylims!(0,1.3*μ)\n    title!(L\"\\textrm{local}\\; \\mu(x)\")\n    xlabel!(L\"x/a_x\"); ylabel!(L\"\\mu(x)/\\hbar\\omega_x\")\nend\nanimpath = joinpath(@__DIR__,\"media/soliton.gif\")\ngif(anim,animpath,fps=30)"
      ],
      "metadata": {},
      "execution_count": null
    },
    {
      "cell_type": "markdown",
      "source": [
        "The result is visible in the [media folder](../../media/soliton.gif) of this repository.\n\n\nHere we simply plot the final state:"
      ],
      "metadata": {}
    },
    {
      "outputs": [],
      "cell_type": "code",
      "source": [
        "ψ = xspace(sols[end],simSoliton)\ny = g*abs2.(ψ)\np=plot(x,y,fill=(0,0.2),size=(500,200))\nxlims!(-10,10); ylims!(0,1.3*μ)\ntitle!(L\"\\textrm{local}\\; \\mu(x)\")\nxlabel!(L\"x/a_x\"); ylabel!(L\"\\mu(x)/\\hbar\\omega_x\")\nplot(p)"
      ],
      "metadata": {},
      "execution_count": null
    },
    {
      "cell_type": "markdown",
      "source": [
        "The dark soliton executes simple harmonic motion with amplitude detemined by its depth."
      ],
      "metadata": {}
    }
  ],
  "nbformat_minor": 2,
  "metadata": {
    "language_info": {
      "file_extension": ".jl",
      "mimetype": "application/julia",
      "name": "julia",
      "version": "1.3.0"
    },
    "kernelspec": {
      "name": "julia-1.3",
      "display_name": "Julia 1.3.0",
      "language": "julia"
    }
  },
  "nbformat": 4
}
