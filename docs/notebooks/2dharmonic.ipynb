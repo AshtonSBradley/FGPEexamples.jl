{
  "cells": [
    {
      "cell_type": "markdown",
      "source": [
        "# Vortex precession in a 2D parabolic trap\n### Ashton Bradley\n\n# Introduction\nIn this example we simulate the precession of a single quantum vortex in a harmonic trap, and compare with the analytical result found by Fetter.\n\nAs simple model of this process, we start with the damped GPE\n$$\ni\\hbar\\partial_t\\psi = (1-i\\gamma)(L-\\mu)\\psi\n$$\nwhere the GP operator is defined as\n$$\nL\\psi\\equiv \\left(-\\frac{\\hbar^2\\nabla^2}{2m}+V(\\mathbf{r})+g|\\psi|^2\\right)\\psi\n$$\nand as usual the S-wave interaction parameter is $g=4\\pi\\hbar^2 a/m$ for S-wave scattering\nlenght $a$.\n\nThe trap is chosen to be cylindrically symmetric\n$$\nV(\\mathbf{r})=\\frac{m\\omega_\\perp^2}{2}(x^2 + y^2)\n$$\nThe number $\\gamma\\ll 1$ describes irreversable interactons between condensate\nand noncondensate atoms, inducing condensate growth.\n\n# Loading the package\nFirst, we load some useful packages, setting defaults for `Plots`."
      ],
      "metadata": {}
    },
    {
      "outputs": [],
      "cell_type": "code",
      "source": [
        "using Plots, LaTeXStrings\ngr(titlefontsize=12,size=(500,300),transpose=true,colorbar=false)"
      ],
      "metadata": {},
      "execution_count": null
    },
    {
      "cell_type": "markdown",
      "source": [
        "Now load `FourierGPE`"
      ],
      "metadata": {}
    },
    {
      "outputs": [],
      "cell_type": "code",
      "source": [
        "using FourierGPE"
      ],
      "metadata": {},
      "execution_count": null
    },
    {
      "cell_type": "markdown",
      "source": [
        "In this example, we work in oscillator units. The units of length and time are\n$a_\\perp=\\sqrt{\\hbar/m\\omega_\\perp}$ and $1/\\omega_\\perp$ respectively.\n\n# Initialize simulation\nInitialize default sim with domain and grid parameters"
      ],
      "metadata": {}
    },
    {
      "outputs": [],
      "cell_type": "code",
      "source": [
        "L = (20.0,20.0)\nN = (128,128)\nsim = Sim(L,N)\n@unpack_Sim sim;"
      ],
      "metadata": {},
      "execution_count": null
    },
    {
      "cell_type": "markdown",
      "source": [
        "# Declare the potential"
      ],
      "metadata": {}
    },
    {
      "outputs": [],
      "cell_type": "code",
      "source": [
        "import FourierGPE.V\nV(x,y,t)::Float64 = 0.5*(x^2 + y^2)"
      ],
      "metadata": {},
      "execution_count": null
    },
    {
      "cell_type": "markdown",
      "source": [
        "# Thomas-Fermi initial state"
      ],
      "metadata": {}
    },
    {
      "outputs": [],
      "cell_type": "code",
      "source": [
        "ψ0(x,y,μ,g) = sqrt(μ/g)*sqrt(max(1.0-V(x,y,0.0)/μ,0.0)+im*0.0)\nx,y = X\n\nμ = 25.0\nψi = ψ0.(x,y',μ,g)\nϕi = kspace(ψi,sim)\n@pack_Sim! sim;"
      ],
      "metadata": {},
      "execution_count": null
    },
    {
      "cell_type": "markdown",
      "source": [
        "# Imaginary-time evolution in k space"
      ],
      "metadata": {}
    },
    {
      "outputs": [],
      "cell_type": "code",
      "source": [
        "@time sol = runsim(sim);"
      ],
      "metadata": {},
      "execution_count": null
    },
    {
      "cell_type": "markdown",
      "source": [
        "Let's pull out the final state and verify that it is indeed the ground state of the harmonic trap:"
      ],
      "metadata": {}
    },
    {
      "outputs": [],
      "cell_type": "code",
      "source": [
        "ϕg = sol[end]\nψg = xspace(ϕg,sim)\nshowpsi(x,y,ψg)"
      ],
      "metadata": {},
      "execution_count": null
    },
    {
      "cell_type": "markdown",
      "source": [
        "# Time dynamics: precession of an off-axis vortex\nWe can use `VortexDistributions` to imprint a vortex off axis and test vortex precession rate according to the GPE."
      ],
      "metadata": {}
    },
    {
      "outputs": [],
      "cell_type": "code",
      "source": [
        "using VortexDistributions"
      ],
      "metadata": {},
      "execution_count": null
    },
    {
      "cell_type": "markdown",
      "source": [
        "# Initial state\nWe imprint a vortex inside the Thomas-Fermi radius"
      ],
      "metadata": {}
    },
    {
      "outputs": [],
      "cell_type": "code",
      "source": [
        "healing(x,y,μ,g) = 1/sqrt(g*abs2(ψ0(x,y,μ,g)))\nRtf = sqrt(2*μ)\nrv = 0.5*Rtf\nxv,yv,cv = rv, 0.0, 1\npv1 = PointVortex(xv,yv,cv) # coordinates and charge for vortex\nξv = healing(xv,yv,μ,g) # local healing length at the vortex\nv1 = ScalarVortex(ξv,pv1) # define scalar GPE vortex with local healing length\n\nψ1 = Torus(copy(ψg),x,y) # methods in VortexDistributions require type conversion\nvortex!(ψ1,v1) # phase/density imprint vortex\nψv = ψ1.ψ #pull out the new wavefunction\nshowpsi(x,y,ψv)"
      ],
      "metadata": {},
      "execution_count": null
    },
    {
      "cell_type": "markdown",
      "source": [
        "# Precession frequency\nIn the Thomas-Fermi regime, precession frequency is given analytically in terms of the\nhealing length $\\xi$ by (see e.g. [Fetter JLTP 2010](https://dx.doi.org/10.1007/s10909-010-0202-7)):\n$$\n\\begin{align}\n\\Omega_m &= \\frac{3}{2R_{\\rm TF}^2}\\log{\\left(\\frac{R_{\\rm TF}}{\\xi\\sqrt{2}}\\right)}\\\\\n\\Omega_v &= \\frac{\\Omega_m}{1-r_v^2/R_{\\rm TF}^2}\n\\end{align}\n$$\nFor our parameters this is"
      ],
      "metadata": {}
    },
    {
      "outputs": [],
      "cell_type": "code",
      "source": [
        "ξ = 1/sqrt(μ)\nΩm = 3*log(Rtf/ξ/sqrt(2))/2/Rtf^2\nΩv = Ωm/(1-rv^2/Rtf^2)"
      ],
      "metadata": {},
      "execution_count": null
    },
    {
      "cell_type": "markdown",
      "source": [
        "or a vortex precession period of"
      ],
      "metadata": {}
    },
    {
      "outputs": [],
      "cell_type": "code",
      "source": [
        "Tv = 2*π/Ωv"
      ],
      "metadata": {},
      "execution_count": null
    },
    {
      "cell_type": "markdown",
      "source": [
        "# Set simulation parameters\nLet's evolve for one period of Hamiltonian dynamics, as predicted by the Thomas-Fermi analysis:"
      ],
      "metadata": {}
    },
    {
      "outputs": [],
      "cell_type": "code",
      "source": [
        "γ = 0.0\ntf = Tv\nt = LinRange(ti,tf,Nt)\nϕi = kspace(ψv,sim)\n@pack_Sim! sim; # write over previous sim  and reuse"
      ],
      "metadata": {},
      "execution_count": null
    },
    {
      "cell_type": "markdown",
      "source": [
        "# Evolve in k space"
      ],
      "metadata": {}
    },
    {
      "outputs": [],
      "cell_type": "code",
      "source": [
        "solv = runsim(sim);"
      ],
      "metadata": {},
      "execution_count": null
    },
    {
      "cell_type": "markdown",
      "source": [
        "Pull out a state after some evolution"
      ],
      "metadata": {}
    },
    {
      "outputs": [],
      "cell_type": "code",
      "source": [
        "ϕf = solv[100]\nψf = xspace(ϕf,sim)\nshowpsi(x,y,ψf)"
      ],
      "metadata": {},
      "execution_count": null
    },
    {
      "cell_type": "markdown",
      "source": [
        "We can trim the last few frames to show one orbit"
      ],
      "metadata": {}
    },
    {
      "outputs": [],
      "cell_type": "code",
      "source": [
        "anim = @animate for i=1:Nt-6\n    ψ = xspace(solv[i],sim)\n    showpsi(x,y,ψ)\nend;"
      ],
      "metadata": {},
      "execution_count": null
    },
    {
      "cell_type": "markdown",
      "source": [
        "and save the animation to the [media folder](../../media/vortex.gif)"
      ],
      "metadata": {}
    },
    {
      "outputs": [],
      "cell_type": "code",
      "source": [
        "gif(anim,\"./media/vortex.gif\",fps=30)"
      ],
      "metadata": {},
      "execution_count": null
    },
    {
      "cell_type": "markdown",
      "source": [
        "The simulation gives a precession frequency within about $\\sim 10\\%$ of the analytical result."
      ],
      "metadata": {}
    }
  ],
  "nbformat_minor": 2,
  "metadata": {
    "language_info": {
      "file_extension": ".jl",
      "mimetype": "application/julia",
      "name": "julia",
      "version": "1.3.0"
    },
    "kernelspec": {
      "name": "julia-1.3",
      "display_name": "Julia 1.3.0",
      "language": "julia"
    }
  },
  "nbformat": 4
}
