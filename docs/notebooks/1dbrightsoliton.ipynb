{
  "cells": [
    {
      "cell_type": "markdown",
      "source": [
        "# Prelude\nFirst, let's load some packages and set plot defaults."
      ],
      "metadata": {}
    },
    {
      "outputs": [],
      "cell_type": "code",
      "source": [
        "using Plots, LaTeXStrings\ngr(legend=false,titlefontsize=12,size=(500,300),colorbar=false,grid=false)\nusing FourierGPE"
      ],
      "metadata": {},
      "execution_count": null
    },
    {
      "cell_type": "markdown",
      "source": [
        "# Gross-Pitaevskii equation\nWe are going to solve the Gross-Pitaevskii equation\n$$\ni\\hbar\\frac{\\partial \\psi(x,t)}{\\partial t}=\\left(-\\frac{\\hbar^2\\partial_x^2}{2m}+V(x,t)+g|\\psi|^2\\right)\\psi\n$$\nfor particular initial and boundary conditions.\n\n## Bright soliton\nThe bright soliton provides a good test of any numerical simulation of the Gross-Pitaevskii equation as it involves a delicate balance between kinetic dispersion and\nthe attractive nonlinearity. An initial state with finite momentum also tests the periodicity of the fft method since the soliton will eventually wrap around the domain.\n\nThe bright soliton wavefunction with wavenumber $k$ describing its collective motion is\n$$\n\\psi_s(x)= \\sqrt{\\frac{N_s}{2\\xi_s}}\\textrm{sech}(x/\\xi_s)e^{ikx}\n$$\nwhere the soliton scale $\\xi_s$ for $N_s$ particles is given by\n$$\n\\xi_s \\equiv \\frac{2}{|g|N_s}\n$$\n# Simulation\n## Potential function"
      ],
      "metadata": {}
    },
    {
      "outputs": [],
      "cell_type": "code",
      "source": [
        "import FourierGPE.V\nV(x,t) = 0.0 |> complex"
      ],
      "metadata": {},
      "execution_count": null
    },
    {
      "cell_type": "markdown",
      "source": [
        "## Units\nIn any numerical calculations we should have a clear understanding of our choice of physical units.\n\nIn length unit $\\xi_s$, and time unit\n$$\nt_s\\equiv \\frac{m \\xi_s^2}{\\hbar},\n$$\nand rescaled wavefunction $\\bar\\psi = \\psi\\sqrt{\\xi_s}$,\nour dimensionless form of the equation of motion is\n$$\ni\\frac{\\partial \\bar\\psi(\\bar x,\\bar t)}{\\partial \\bar t}=\\left(-\\frac{\\bar\\partial_x^2}{2}+\\bar g|\\bar\\psi|^2\\right)\\bar\\psi\n$$\nwhere the dimensionless interaction parameter is\n$$\n\\bar g \\equiv \\frac{m\\xi_s}{\\hbar^2}g < 0\n$$\n# Initialize the simulation\nCreate the `sim` struct holding all parameters, with predefined grids."
      ],
      "metadata": {}
    },
    {
      "outputs": [],
      "cell_type": "code",
      "source": [
        "L = (60.0,)\nN = (512,)\nsim = Sim(L,N)\n@unpack_Sim sim;"
      ],
      "metadata": {},
      "execution_count": null
    },
    {
      "cell_type": "markdown",
      "source": [
        "# Parameters"
      ],
      "metadata": {}
    },
    {
      "outputs": [],
      "cell_type": "code",
      "source": [
        "μ = 25.0\ng = -0.01\nγ = 0.0\nNs = 200\nξs = 2/abs(g)/Ns\nus = 20\ntf = 1π |> Float64\nNt = 150\nt = LinRange(0.,tf,Nt);"
      ],
      "metadata": {},
      "execution_count": null
    },
    {
      "cell_type": "markdown",
      "source": [
        "## Initial condition\nWe initialize the bright soliton with dimensionless velocity $u_s$ as"
      ],
      "metadata": {}
    },
    {
      "outputs": [],
      "cell_type": "code",
      "source": [
        "x = X[1]\nψs(x) = sqrt(Ns/2ξs)*sech(x/ξs)*exp(im*us*x)\nψi = ψs.(x)\nϕi = kspace(ψi,sim)\n\n@pack_Sim! sim; #finally, pack everything up for simulation."
      ],
      "metadata": {},
      "execution_count": null
    },
    {
      "cell_type": "markdown",
      "source": [
        "## Evolve in k-space\nNow we have everything we need to evolve in k-space"
      ],
      "metadata": {}
    },
    {
      "outputs": [],
      "cell_type": "code",
      "source": [
        "@time sol = runsim(sim);"
      ],
      "metadata": {},
      "execution_count": null
    },
    {
      "cell_type": "markdown",
      "source": [
        "## Plot the solution\nWe plot the density of atoms, and the phase after removing the Galilean boost."
      ],
      "metadata": {}
    },
    {
      "outputs": [],
      "cell_type": "code",
      "source": [
        "ψp = xspace(sol[end],sim).*exp.(-im*us*x)\np1 = plot(x,abs2.(ψp))\nxlabel!(L\"x\");ylabel!(L\"|\\psi|^2\")\np2 = plot(x,angle.(ψp))\nxlabel!(L\"x\");ylabel!(L\"\\textrm{phase} (\\psi)\")\np = plot(p1,p2,layout=(2,1),size=(600,400))"
      ],
      "metadata": {},
      "execution_count": null
    },
    {
      "cell_type": "markdown",
      "source": [
        "The phase is constant over the soliton, as it would be in the lab frame. \nTo visualize the motion, we can make an animation, saved to the [media folder](../../media/brightsoliton.gif)."
      ],
      "metadata": {}
    },
    {
      "outputs": [],
      "cell_type": "code",
      "source": [
        "anim = @animate for i=1:Nt-8\n    ψ = xspace(sol[i],sim)\n    y = abs2.(ψ)\n    plot(x,y,fill=(0, 0.2),size=(600,150),legend=false,xticks=false,yticks=false,axis=false)\nend\n\nfilename = \"brightsoliton.gif\"\ngif(anim,joinpath(@__DIR__,\"../media\",filename),fps = 25);"
      ],
      "metadata": {},
      "execution_count": null
    },
    {
      "cell_type": "markdown",
      "source": [
        "![[animation (see media folder)]](../../media/brightsoliton.gif)"
      ],
      "metadata": {}
    }
  ],
  "nbformat_minor": 2,
  "metadata": {
    "language_info": {
      "file_extension": ".jl",
      "mimetype": "application/julia",
      "name": "julia",
      "version": "1.6.0"
    },
    "kernelspec": {
      "name": "julia-1.6",
      "display_name": "Julia 1.6.0",
      "language": "julia"
    }
  },
  "nbformat": 4
}
