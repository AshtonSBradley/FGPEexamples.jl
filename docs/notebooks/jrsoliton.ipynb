{
  "cells": [
    {
      "cell_type": "markdown",
      "source": [
        "# Jones-Roberts soliton motion in a homogeneous BEC\n### Sukla Pal\n\n# Introduction\nIn this example we simulate the precession of a single quantum vortex in a harmonic trap, and compare with the analytical result found by Fetter.\n\nAs simple model of this process, we start with the damped GPE\n$$\ni\\hbar\\partial_t\\psi = (1-i\\gamma)(L-\\mu)\\psi\n$$\nwhere the GP operator is defined as\n$$\nL\\psi\\equiv \\left(-\\frac{\\hbar^2\\nabla^2}{2m}+V(\\mathbf{r})+g|\\psi|^2\\right)\\psi\n$$\nand as usual the S-wave interaction parameter is $g=4\\pi\\hbar^2 a/m$ for S-wave scattering\nlenght $a$.\n\nThe trap is chosen to be trivial\n$$\nV(\\mathbf{r})=0\n$$\nThe number $\\gamma\\ll 1$ describes irreversable interactons between condensate\nand noncondensate atoms, inducing condensate growth.\n\n# Loading the package\nFirst, we load some useful packages, setting defaults for `Plots`."
      ],
      "metadata": {}
    },
    {
      "outputs": [],
      "cell_type": "code",
      "source": [
        "using Plots, LaTeXStrings\ngr(titlefontsize=12,size=(500,300),transpose=true,colorbar=false)"
      ],
      "metadata": {},
      "execution_count": null
    },
    {
      "cell_type": "markdown",
      "source": [
        "Now load `FourierGPE`"
      ],
      "metadata": {}
    },
    {
      "outputs": [],
      "cell_type": "code",
      "source": [
        "using FourierGPE"
      ],
      "metadata": {},
      "execution_count": null
    },
    {
      "cell_type": "markdown",
      "source": [
        "In this example, we work in oscillator units. The units of length and time are\n$a_\\perp=\\sqrt{\\hbar/m\\omega_\\perp}$ and $1/\\omega_\\perp$ respectively.\n\n# Initialize simulation\nInitialize default sim with domain and grid parameters"
      ],
      "metadata": {}
    },
    {
      "outputs": [],
      "cell_type": "code",
      "source": [
        "L = (20.0,20.0)\nN = (128,128)\nsim = Sim(L,N)\n@unpack_Sim sim;"
      ],
      "metadata": {},
      "execution_count": null
    },
    {
      "cell_type": "markdown",
      "source": [
        "# Declare the potential"
      ],
      "metadata": {}
    },
    {
      "outputs": [],
      "cell_type": "code",
      "source": [
        "import FourierGPE.V\nV(x,y,t)::Float64 = 0.0"
      ],
      "metadata": {},
      "execution_count": null
    },
    {
      "cell_type": "markdown",
      "source": [
        "# Thomas-Fermi initial state"
      ],
      "metadata": {}
    },
    {
      "outputs": [],
      "cell_type": "code",
      "source": [
        "ψ0(x,y,μ,g) = sqrt(μ/g)*sqrt(max(1.0-V(x,y,0.0)/μ,0.0)+im*0.0)\nx,y = X\n\nμ = 25.0\nψi = ψ0.(x,y',μ,g)\nϕi = kspace(ψi,sim)\n@pack_Sim! sim;"
      ],
      "metadata": {},
      "execution_count": null
    },
    {
      "cell_type": "markdown",
      "source": [
        "# Imaginary-time evolution in k space"
      ],
      "metadata": {}
    },
    {
      "outputs": [],
      "cell_type": "code",
      "source": [
        "@time sol = runsim(sim);"
      ],
      "metadata": {},
      "execution_count": null
    },
    {
      "cell_type": "markdown",
      "source": [
        "Let's pull out the final state and verify that it is indeed the ground state of the harmonic trap:"
      ],
      "metadata": {}
    },
    {
      "outputs": [],
      "cell_type": "code",
      "source": [
        "ϕg = sol[end]\nψg = xspace(ϕg,sim)\nshowpsi(x,y,ψg)"
      ],
      "metadata": {},
      "execution_count": null
    },
    {
      "cell_type": "markdown",
      "source": [
        "# Imprint Jones-Roberts soliton\nWe imprint a JR-soliton using the [analytical solution](https://dx.doi.org/)\n\n# Set simulation parameters\nLet's evolve for one period of Hamiltonian dynamics, as predicted by the Thomas-Fermi analysis:"
      ],
      "metadata": {}
    },
    {
      "outputs": [],
      "cell_type": "code",
      "source": [
        "γ = 0.0\nϕi = kspace(ψg,sim)\n@pack_Sim! sim; # write over previous sim  and reuse"
      ],
      "metadata": {},
      "execution_count": null
    },
    {
      "cell_type": "markdown",
      "source": [
        "# Evolve in k space"
      ],
      "metadata": {}
    },
    {
      "outputs": [],
      "cell_type": "code",
      "source": [
        "solv = runsim(sim);"
      ],
      "metadata": {},
      "execution_count": null
    },
    {
      "cell_type": "markdown",
      "source": [
        "Pull out a state after some evolution"
      ],
      "metadata": {}
    },
    {
      "outputs": [],
      "cell_type": "code",
      "source": [
        "ϕf = solv[100]\nψf = xspace(ϕf,sim)\nshowpsi(x,y,ψf)"
      ],
      "metadata": {},
      "execution_count": null
    },
    {
      "cell_type": "markdown",
      "source": [
        "We can trim the last few frames to show one orbit"
      ],
      "metadata": {}
    },
    {
      "outputs": [],
      "cell_type": "code",
      "source": [
        "anim = @animate for i=1:Nt-6\n    ψ = xspace(solv[i],sim)\n    showpsi(x,y,ψ)\nend;"
      ],
      "metadata": {},
      "execution_count": null
    },
    {
      "cell_type": "markdown",
      "source": [
        "and save the animation to the [media folder](../../media/jrsoliton.gif)"
      ],
      "metadata": {}
    },
    {
      "outputs": [],
      "cell_type": "code",
      "source": [
        "gif(anim,\"./media/jrsoliton.gif\",fps=30)"
      ],
      "metadata": {},
      "execution_count": null
    },
    {
      "cell_type": "markdown",
      "source": [
        "discuss..."
      ],
      "metadata": {}
    }
  ],
  "nbformat_minor": 2,
  "metadata": {
    "language_info": {
      "file_extension": ".jl",
      "mimetype": "application/julia",
      "name": "julia",
      "version": "1.3.0"
    },
    "kernelspec": {
      "name": "julia-1.3",
      "display_name": "Julia 1.3.0",
      "language": "julia"
    }
  },
  "nbformat": 4
}
